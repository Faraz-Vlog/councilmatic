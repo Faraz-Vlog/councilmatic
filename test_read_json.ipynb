{
 "cells": [
  {
   "cell_type": "code",
   "execution_count": 1,
   "metadata": {
    "collapsed": false,
    "deletable": true,
    "editable": true
   },
   "outputs": [],
   "source": [
    "import json\n",
    "from scraper.model.calendar import Calendar as CalendarModel\n",
    "from scraper.model.meeting_item import MeetingItem as MeetingItemModel\n",
    "import traceback"
   ]
  },
  {
   "cell_type": "code",
   "execution_count": 2,
   "metadata": {
    "collapsed": true,
    "deletable": true,
    "editable": true
   },
   "outputs": [],
   "source": [
    "def load_json(file_name):\n",
    "    with open(file_name, 'r') as myfile:\n",
    "        json_data=myfile.read()\n",
    "\n",
    "    return json.loads(json_data)"
   ]
  },
  {
   "cell_type": "markdown",
   "metadata": {
    "deletable": true,
    "editable": true
   },
   "source": [
    "## load json file into a calendar list"
   ]
  },
  {
   "cell_type": "code",
   "execution_count": 3,
   "metadata": {
    "collapsed": false,
    "deletable": true,
    "editable": true
   },
   "outputs": [],
   "source": [
    "#json_list = load_json('last_year.json')\n",
    "json_list = load_json('cal04092019.json')\n",
    "\n",
    "cal_list = CalendarModel.from_list_json(json_list, warn_on_err=False)"
   ]
  },
  {
   "cell_type": "markdown",
   "metadata": {
    "deletable": true,
    "editable": true
   },
   "source": [
    "## cal_list is a list of calendar objects"
   ]
  },
  {
   "cell_type": "code",
   "execution_count": 4,
   "metadata": {
    "collapsed": false,
    "deletable": true,
    "editable": true
   },
   "outputs": [
    {
     "data": {
      "text/plain": [
       "7"
      ]
     },
     "execution_count": 4,
     "metadata": {},
     "output_type": "execute_result"
    }
   ],
   "source": [
    "len(cal_list)"
   ]
  },
  {
   "cell_type": "markdown",
   "metadata": {
    "deletable": true,
    "editable": true
   },
   "source": [
    "## Let's look at a calendar object"
   ]
  },
  {
   "cell_type": "code",
   "execution_count": 16,
   "metadata": {
    "collapsed": true,
    "deletable": true,
    "editable": true
   },
   "outputs": [],
   "source": [
    "cal_obj = cal_list[3]"
   ]
  },
  {
   "cell_type": "code",
   "execution_count": 17,
   "metadata": {
    "collapsed": false,
    "deletable": true,
    "editable": true
   },
   "outputs": [
    {
     "data": {
      "text/plain": [
       "['__class__',\n",
       " '__delattr__',\n",
       " '__dict__',\n",
       " '__dir__',\n",
       " '__doc__',\n",
       " '__eq__',\n",
       " '__format__',\n",
       " '__ge__',\n",
       " '__getattribute__',\n",
       " '__gt__',\n",
       " '__hash__',\n",
       " '__init__',\n",
       " '__init_subclass__',\n",
       " '__le__',\n",
       " '__lt__',\n",
       " '__module__',\n",
       " '__ne__',\n",
       " '__new__',\n",
       " '__reduce__',\n",
       " '__reduce_ex__',\n",
       " '__repr__',\n",
       " '__setattr__',\n",
       " '__sizeof__',\n",
       " '__str__',\n",
       " '__subclasshook__',\n",
       " '__weakref__',\n",
       " '_cancelled',\n",
       " '_meeting_details',\n",
       " '_meeting_location',\n",
       " '_name',\n",
       " 'agenda',\n",
       " 'calendar_link',\n",
       " 'cancelled',\n",
       " 'eComment',\n",
       " 'escape_double_quotes',\n",
       " 'field_class_dict',\n",
       " 'field_names',\n",
       " 'filter_newlines',\n",
       " 'from_json',\n",
       " 'from_list_json',\n",
       " 'get_str_from_list',\n",
       " 'list_field_class_dict',\n",
       " 'meeting_date',\n",
       " 'meeting_details',\n",
       " 'meeting_location',\n",
       " 'meeting_time',\n",
       " 'minutes',\n",
       " 'name',\n",
       " 'remove_starting_asterisk',\n",
       " 'to_csv',\n",
       " 'to_csv_str',\n",
       " 'to_json',\n",
       " 'to_map',\n",
       " 'to_map_list',\n",
       " 'to_map_list_json',\n",
       " 'video']"
      ]
     },
     "execution_count": 17,
     "metadata": {},
     "output_type": "execute_result"
    }
   ],
   "source": [
    "dir(cal_obj)"
   ]
  },
  {
   "cell_type": "markdown",
   "metadata": {
    "deletable": true,
    "editable": true
   },
   "source": [
    "## print out the values of the calendar object"
   ]
  },
  {
   "cell_type": "code",
   "execution_count": 18,
   "metadata": {
    "collapsed": false,
    "deletable": true,
    "editable": true
   },
   "outputs": [
    {
     "name": "stdout",
     "output_type": "stream",
     "text": [
      "   name: Public Works Committee\n",
      "   meeting_date: 4/9/2019\n",
      "   calendar_link: https://oakland.legistar.com/View.ashx?M=IC&ID=688457&GUID=9651FB94-8006-4147-9D85-2744705EC01E\n",
      "   meeting_time: 11:30 AM\n",
      "   meeting_location: Sgt. Mark Dunakin Room - 1st Floor CANCELLATION NOTICE The regularly scheduled meeting of the Public Works Committee Of April 9th at 11:30 a.m has been Cancelled. A Public Works Committee will be held April 9th at11:00 a.m, please refer to that Agenda.\n",
      "   meeting_details:    meeting_name: Public Works Committee\n",
      "   meeting_datetime: 4/9/2019\n",
      "   meeting_location: Sgt. Mark Dunakin Room - 1st Floor CANCELLATION NOTICE The regularly scheduled meeting of the Public Works Committee Of April 9th at 11:30 a.m has been Cancelled. A Public Works Committee will be held April 9th at11:00 a.m, please refer to that Agenda.\n",
      "   published_agenda: https://oakland.legistar.com/View.ashx?M=A&ID=688457&GUID=9651FB94-8006-4147-9D85-2744705EC01E\n",
      "   agenda_packet: None\n",
      "   meeting_video: None\n",
      "   agenda_status: FINAL\n",
      "   minutes_status: DRAFT\n",
      "   published_minutes: None\n",
      "   eComment: None\n",
      "   additional_notes: Please note: this meeting's minutes have not been finalized yet. Actions taken on legislation and their results are not available.\n",
      "\n",
      "   agenda: https://oakland.legistar.com/View.ashx?M=A&ID=688457&GUID=9651FB94-8006-4147-9D85-2744705EC01E\n",
      "   minutes: None\n",
      "   video: None\n",
      "   eComment: None\n",
      "   cancelled: True\n"
     ]
    }
   ],
   "source": [
    "print(cal_obj)"
   ]
  },
  {
   "cell_type": "markdown",
   "metadata": {
    "deletable": true,
    "editable": true
   },
   "source": [
    "## access individual properties of the calendar object"
   ]
  },
  {
   "cell_type": "code",
   "execution_count": 19,
   "metadata": {
    "collapsed": false,
    "deletable": true,
    "editable": true
   },
   "outputs": [
    {
     "data": {
      "text/plain": [
       "'Public Works Committee'"
      ]
     },
     "execution_count": 19,
     "metadata": {},
     "output_type": "execute_result"
    }
   ],
   "source": [
    "cal_obj.name"
   ]
  },
  {
   "cell_type": "code",
   "execution_count": 20,
   "metadata": {
    "collapsed": false,
    "deletable": true,
    "editable": true
   },
   "outputs": [
    {
     "data": {
      "text/plain": [
       "'4/9/2019'"
      ]
     },
     "execution_count": 20,
     "metadata": {},
     "output_type": "execute_result"
    }
   ],
   "source": [
    "cal_obj.meeting_date"
   ]
  },
  {
   "cell_type": "code",
   "execution_count": 21,
   "metadata": {
    "collapsed": false,
    "deletable": true,
    "editable": true
   },
   "outputs": [
    {
     "data": {
      "text/plain": [
       "True"
      ]
     },
     "execution_count": 21,
     "metadata": {},
     "output_type": "execute_result"
    }
   ],
   "source": [
    "cal_obj.cancelled"
   ]
  },
  {
   "cell_type": "code",
   "execution_count": null,
   "metadata": {
    "collapsed": true
   },
   "outputs": [],
   "source": []
  }
 ],
 "metadata": {
  "hide_input": false,
  "kernelspec": {
   "display_name": "new councilmatic",
   "language": "python",
   "name": "new_councilmatic"
  },
  "language_info": {
   "codemirror_mode": {
    "name": "ipython",
    "version": 3
   },
   "file_extension": ".py",
   "mimetype": "text/x-python",
   "name": "python",
   "nbconvert_exporter": "python",
   "pygments_lexer": "ipython3",
   "version": "3.6.6"
  }
 },
 "nbformat": 4,
 "nbformat_minor": 2
}
